{
 "cells": [
  {
   "cell_type": "code",
   "execution_count": null,
   "metadata": {
    "id": "21ceESJ8lj-5"
   },
   "outputs": [],
   "source": [
    "import pandas as pd\n",
    "import numpy as np\n",
    "from sklearn.feature_extraction.text import TfidfVectorizer\n",
    "from sklearn.metrics.pairwise import cosine_similarity\n",
    "import ipywidgets as widgets\n",
    "from IPython.display import display"
   ]
  },
  {
   "cell_type": "code",
   "execution_count": null,
   "metadata": {
    "colab": {
     "base_uri": "https://localhost:8080/"
    },
    "executionInfo": {
     "elapsed": 118,
     "status": "ok",
     "timestamp": 1758813846021,
     "user": {
      "displayName": "Sanjana Suresh",
      "userId": "06214040959307151200"
     },
     "user_tz": -330
    },
    "id": "Fs36MbXElj8j",
    "outputId": "d3ce5032-d840-4bfd-bfb2-aba5d536706b"
   },
   "outputs": [],
   "source": [
    "try:\n",
    "    movies_df = pd.read_csv('/content/movies (1).csv')\n",
    "    ratings_df = pd.read_csv('/content/ratings.csv')\n",
    "except FileNotFoundError:\n",
    "    print(\"Please make sure 'movies.csv' and 'ratings.csv' are in the correct directory.\")\n",
    "    movies_df = pd.DataFrame(columns=['movieId', 'title', 'genres'])\n",
    "    ratings_df = pd.DataFrame(columns=['userId', 'movieId', 'rating', 'timestamp'])\n",
    "\n",
    "print(\"Datasets loaded\")\n",
    "print(\"\\nMovies:\")\n",
    "print(movies_df.head())\n",
    "print(\"\\nRatings:\")\n",
    "print(ratings_df.head())"
   ]
  },
  {
   "cell_type": "code",
   "execution_count": null,
   "metadata": {
    "colab": {
     "base_uri": "https://localhost:8080/"
    },
    "executionInfo": {
     "elapsed": 13,
     "status": "ok",
     "timestamp": 1758813846036,
     "user": {
      "displayName": "Sanjana Suresh",
      "userId": "06214040959307151200"
     },
     "user_tz": -330
    },
    "id": "5aig75aRlj52",
    "outputId": "482d8470-0c9b-448d-a863-2ae92027d6e2"
   },
   "outputs": [],
   "source": [
    "print(f\"Shape of movies data: {movies_df.shape}\")\n",
    "print(f\"Shape of ratings data: {ratings_df.shape}\")"
   ]
  },
  {
   "cell_type": "code",
   "execution_count": null,
   "metadata": {
    "colab": {
     "base_uri": "https://localhost:8080/"
    },
    "executionInfo": {
     "elapsed": 4,
     "status": "ok",
     "timestamp": 1758813846053,
     "user": {
      "displayName": "Sanjana Suresh",
      "userId": "06214040959307151200"
     },
     "user_tz": -330
    },
    "id": "SHzebK32lj2r",
    "outputId": "86229386-b578-418a-ee01-623f9534041c"
   },
   "outputs": [],
   "source": [
    "df = pd.merge(ratings_df, movies_df, on='movieId')\n",
    "print(\"\\nMerged DataFrame Head:\")\n",
    "print(df.head())"
   ]
  },
  {
   "cell_type": "code",
   "execution_count": null,
   "metadata": {
    "colab": {
     "base_uri": "https://localhost:8080/"
    },
    "executionInfo": {
     "elapsed": 61,
     "status": "ok",
     "timestamp": 1758813846142,
     "user": {
      "displayName": "Sanjana Suresh",
      "userId": "06214040959307151200"
     },
     "user_tz": -330
    },
    "id": "Y1X8w1RBl7mk",
    "outputId": "90c5f387-3324-43df-fab4-b2ecb0eb3ca3"
   },
   "outputs": [],
   "source": [
    "n_users = df['userId'].nunique()\n",
    "n_movies = df['movieId'].nunique()\n",
    "print(f\"\\nNumber of unique users: {n_users}\")\n",
    "print(f\"Number of unique movies: {n_movies}\")"
   ]
  },
  {
   "cell_type": "code",
   "execution_count": null,
   "metadata": {
    "colab": {
     "base_uri": "https://localhost:8080/"
    },
    "executionInfo": {
     "elapsed": 285,
     "status": "ok",
     "timestamp": 1758813846596,
     "user": {
      "displayName": "Sanjana Suresh",
      "userId": "06214040959307151200"
     },
     "user_tz": -330
    },
    "id": "0XeZPC5kmBdq",
    "outputId": "85a0199a-662b-447f-9cee-fbdd7e0a27f7"
   },
   "outputs": [],
   "source": [
    "print(\"\\nRating Distribution:\")\n",
    "print(df['rating'].describe())"
   ]
  },
  {
   "cell_type": "code",
   "execution_count": null,
   "metadata": {
    "colab": {
     "base_uri": "https://localhost:8080/"
    },
    "executionInfo": {
     "elapsed": 4,
     "status": "ok",
     "timestamp": 1758813846601,
     "user": {
      "displayName": "Sanjana Suresh",
      "userId": "06214040959307151200"
     },
     "user_tz": -330
    },
    "id": "w_vU0j_4mDja",
    "outputId": "0e9ad06f-45cc-4d03-919f-84c61e93d0b7"
   },
   "outputs": [],
   "source": [
    "genres_df = movies_df['genres'].str.get_dummies(sep='|')\n",
    "unique_genres = list(genres_df.columns)\n",
    "print(f\"\\nFound {len(unique_genres)} unique genres.\")"
   ]
  },
  {
   "cell_type": "code",
   "execution_count": null,
   "metadata": {
    "colab": {
     "base_uri": "https://localhost:8080/"
    },
    "executionInfo": {
     "elapsed": 3,
     "status": "ok",
     "timestamp": 1758813846605,
     "user": {
      "displayName": "Sanjana Suresh",
      "userId": "06214040959307151200"
     },
     "user_tz": -330
    },
    "id": "s7gIE1ZImHvK",
    "outputId": "70ada93e-d5cd-4ca2-a288-504da006a6b0"
   },
   "outputs": [],
   "source": [
    "print(\"\\nTotal movies per genre:\")\n",
    "print(genres_df.sum().sort_values(ascending=False))"
   ]
  },
  {
   "cell_type": "code",
   "execution_count": null,
   "metadata": {
    "id": "zotpHtXxmJ7y"
   },
   "outputs": [],
   "source": [
    "genre_ratings = df.drop(['movieId', 'userId', 'timestamp', 'title'], axis=1)\n",
    "genre_ratings = genre_ratings.join(genre_ratings['genres'].str.get_dummies(sep='|'))\n",
    "genre_ratings = genre_ratings.drop('genres', axis=1)"
   ]
  },
  {
   "cell_type": "code",
   "execution_count": null,
   "metadata": {
    "colab": {
     "base_uri": "https://localhost:8080/"
    },
    "executionInfo": {
     "elapsed": 10,
     "status": "ok",
     "timestamp": 1758813847908,
     "user": {
      "displayName": "Sanjana Suresh",
      "userId": "06214040959307151200"
     },
     "user_tz": -330
    },
    "id": "k2_M1iwQmMhG",
    "outputId": "22bea99b-a9c6-4cdb-f73f-632255af2349"
   },
   "outputs": [],
   "source": [
    "print(\"\\nAverage rating per genre:\")\n",
    "avg_genre_rating = {}\n",
    "for genre in unique_genres:\n",
    "    avg_genre_rating[genre] = genre_ratings[genre_ratings[genre] == 1]['rating'].mean()\n",
    "\n",
    "avg_rating_df = pd.Series(avg_genre_rating).sort_values(ascending=False)\n",
    "print(avg_rating_df)"
   ]
  },
  {
   "cell_type": "code",
   "execution_count": null,
   "metadata": {
    "id": "ybOwwUmHmRMp"
   },
   "outputs": [],
   "source": [
    "def popularity_recommender(genre, min_reviews_threshold, N):\n",
    "    genre_df = df[df['genres'].str.contains(genre, case=False, na=False)]\n",
    "    if genre_df.empty:\n",
    "        print(f\"No movies found for the genre: {genre}\")\n",
    "        return\n",
    "    movie_stats = genre_df.groupby('title').agg(\n",
    "        Num_Reviews=('rating', 'count'),\n",
    "        Average_Movie_Rating=('rating', 'mean')\n",
    "    ).reset_index()\n",
    "    qualified_movies = movie_stats[movie_stats['Num_Reviews'] >= min_reviews_threshold]\n",
    "    top_n_movies = qualified_movies.sort_values(by='Average_Movie_Rating', ascending=False).head(N)\n",
    "    top_n_movies = top_n_movies.reset_index(drop=True)\n",
    "    top_n_movies.index = top_n_movies.index + 1\n",
    "    top_n_movies.index.name = 'S.No'\n",
    "    display(top_n_movies[['title', 'Average_Movie_Rating', 'Num_Reviews']].rename(columns={'title': 'Movie Title'}))"
   ]
  },
  {
   "cell_type": "code",
   "execution_count": null,
   "metadata": {
    "colab": {
     "base_uri": "https://localhost:8080/",
     "height": 255
    },
    "executionInfo": {
     "elapsed": 54,
     "status": "ok",
     "timestamp": 1758813847965,
     "user": {
      "displayName": "Sanjana Suresh",
      "userId": "06214040959307151200"
     },
     "user_tz": -330
    },
    "id": "fd8YZdJDmlDJ",
    "outputId": "ec9e2744-7de3-4cd2-825b-8795b3e1c3a8"
   },
   "outputs": [],
   "source": [
    "print(f\"Top 5 Popular Movies in 'Comedy' Genre (with at least 100 reviews)\")\n",
    "popularity_recommender(genre='Comedy', min_reviews_threshold=100, N=5)"
   ]
  },
  {
   "cell_type": "code",
   "execution_count": null,
   "metadata": {
    "id": "ucAb1YnEmyNJ"
   },
   "outputs": [],
   "source": [
    "tfidf = TfidfVectorizer(stop_words='english')\n",
    "movies_df['genres'] = movies_df['genres'].fillna('')\n",
    "tfidf_matrix = tfidf.fit_transform(movies_df['genres'])\n",
    "cosine_sim = cosine_similarity(tfidf_matrix, tfidf_matrix)\n",
    "indices = pd.Series(movies_df.index, index=movies_df['title']).drop_duplicates()"
   ]
  },
  {
   "cell_type": "code",
   "execution_count": null,
   "metadata": {
    "id": "uPTMXszFm9dF"
   },
   "outputs": [],
   "source": [
    "def content_based_recommender(movie_title, N):\n",
    "    if movie_title not in indices:\n",
    "        print(f\"Movie '{movie_title}' not found in the dataset.\")\n",
    "        return\n",
    "    idx = indices[movie_title]\n",
    "    sim_scores = list(enumerate(cosine_sim[idx]))\n",
    "    sim_scores = sorted(sim_scores, key=lambda x: x[1], reverse=True)\n",
    "    sim_scores = sim_scores[1:N+1]\n",
    "    movie_indices = [i[0] for i in sim_scores]\n",
    "    recommended_movies = movies_df['title'].iloc[movie_indices].to_frame()\n",
    "    recommended_movies = recommended_movies.reset_index(drop=True)\n",
    "    recommended_movies.index = recommended_movies.index + 1\n",
    "    recommended_movies.index.name = 'Sl.No'\n",
    "    display(recommended_movies.rename(columns={'title': 'Movie Title'}))"
   ]
  },
  {
   "cell_type": "code",
   "execution_count": null,
   "metadata": {
    "colab": {
     "base_uri": "https://localhost:8080/",
     "height": 272
    },
    "executionInfo": {
     "elapsed": 19,
     "status": "ok",
     "timestamp": 1758813850795,
     "user": {
      "displayName": "Sanjana Suresh",
      "userId": "06214040959307151200"
     },
     "user_tz": -330
    },
    "id": "DhemvBitnE1x",
    "outputId": "46d5eb2c-72bf-43df-e765-2df7af8b913b"
   },
   "outputs": [],
   "source": [
    "print(f\"\\nTop 5 Movies Similar to 'Toy Story (1995)' Based on Genre\")\n",
    "content_based_recommender(movie_title='Toy Story (1995)', N=5)"
   ]
  },
  {
   "cell_type": "code",
   "execution_count": null,
   "metadata": {
    "id": "HfvHbCIEnHwr"
   },
   "outputs": [],
   "source": [
    "user_movie_matrix = df.pivot_table(index='userId', columns='title', values='rating').fillna(0)\n",
    "user_similarity = cosine_similarity(user_movie_matrix)\n",
    "user_similarity_df = pd.DataFrame(user_similarity, index=user_movie_matrix.index, columns=user_movie_matrix.index)"
   ]
  },
  {
   "cell_type": "code",
   "execution_count": null,
   "metadata": {
    "id": "OaM1avsVnRD9"
   },
   "outputs": [],
   "source": [
    "def collaborative_recommender(user_id, k, N):\n",
    "    if user_id not in user_movie_matrix.index:\n",
    "        print(f\"User ID {user_id} not found.\")\n",
    "        return\n",
    "    similar_users = user_similarity_df[user_id].sort_values(ascending=False).iloc[1:k+1]\n",
    "    user_watched_movies = user_movie_matrix.loc[user_id][user_movie_matrix.loc[user_id] > 0].index\n",
    "    recommendations = {}\n",
    "    for similar_user_id, similarity_score in similar_users.items():\n",
    "        similar_user_ratings = user_movie_matrix.loc[similar_user_id]\n",
    "        unseen_movies = similar_user_ratings[similar_user_ratings > 0].index.difference(user_watched_movies)\n",
    "        for movie in unseen_movies:\n",
    "            if movie not in recommendations:\n",
    "                recommendations[movie] = {'total_score': 0, 'total_similarity': 0}\n",
    "            recommendations[movie]['total_score'] += similarity_score * similar_user_ratings[movie]\n",
    "            recommendations[movie]['total_similarity'] += similarity_score\n",
    "    if not recommendations:\n",
    "        print(\"Could not find any new movies to recommend based on the given users.\")\n",
    "        return\n",
    "    predicted_ratings = {movie: data['total_score'] / data['total_similarity'] for movie, data in recommendations.items()}\n",
    "    top_n_movies = sorted(predicted_ratings.items(), key=lambda item: item[1], reverse=True)[:N]\n",
    "    rec_df = pd.DataFrame(top_n_movies, columns=['Movie Title', 'Predicted Rating'])\n",
    "    rec_df = rec_df.reset_index()\n",
    "    rec_df['index'] = rec_df['index'] + 1\n",
    "    rec_df = rec_df.rename(columns={'index': 'S.No'})\n",
    "    display(rec_df[['S.No', 'Movie Title']])"
   ]
  },
  {
   "cell_type": "code",
   "execution_count": null,
   "metadata": {
    "colab": {
     "base_uri": "https://localhost:8080/",
     "height": 241
    },
    "executionInfo": {
     "elapsed": 496,
     "status": "ok",
     "timestamp": 1758813852188,
     "user": {
      "displayName": "Sanjana Suresh",
      "userId": "06214040959307151200"
     },
     "user_tz": -330
    },
    "id": "k2EpVRAOncZ9",
    "outputId": "6bc913bb-36e6-4ecd-b3ec-ed3ccf1c035f"
   },
   "outputs": [],
   "source": [
    "print(f\"\\nTop 5 Movie Recommendations for User ID 1 (based on 100 similar users)\")\n",
    "collaborative_recommender(user_id=1, k=100, N=5)"
   ]
  },
  {
   "cell_type": "code",
   "execution_count": null,
   "metadata": {
    "colab": {
     "base_uri": "https://localhost:8080/",
     "height": 1000,
     "referenced_widgets": [
      "a03942d08f904ea68e6ac3285d4e697f",
      "b6b6cb3e63904f03aa06b124cd3365ca",
      "4d51a1f7849c4fadacfdc02a1e6ef0eb",
      "8de71e3387ae4eb4af8f8fd6cc94b367",
      "2f05c5685c55408182171bbc8ab343a9",
      "64dfc93205684233bc0051dec3e71258",
      "ecc32983079843c4ac4731003c39ff85",
      "db61d1c3d9fc40b593fc3bccc52f2fcf",
      "958bf7de1aca4923b7fe61e8bad963ba",
      "af6a309592024be9a208bbce8e7cb3bd",
      "1fda58cfbc0b43db91063cdaa7bc0a83",
      "dfb939167c934b3bb9e79b1a81b80197",
      "acd69ea9dcce47cf86d5b357aadd947b",
      "1cd4515f68794c9995f24a3d089af2f6",
      "77847f6ff16e45c0a3c7c5a1c12a02ad",
      "66aeedaf54ba4f128d11831856b79ba5",
      "eecde1e7b2574f908ac9e8bbc8760fb0",
      "53f5ffeed2b443b7a5a6a876cfa5ddf2",
      "d537dfbb87044862890e7c4e51830dd7",
      "9cc4110c559044eeadb600dd1d3b62af",
      "22dc0194079647c1a9a7dea3c8da3988",
      "d34068222aff48999f9d955a6cb6f6e5",
      "80865ec967214759868ba26793479079",
      "ca35820472684bdd82a44d1e6ef533c7",
      "9bce4b06869645248bbb01eb166bb5c3",
      "61b571f4029f41f9924dc6329ab610f1",
      "287af6eb8fab45c6a77b498119f71e2f",
      "03dd5f8ac9234ee4809ec99f5d91285f",
      "2c5ba8c3e7c641b8a61c871585e5c820",
      "ff183d388e2849239712bc70d402fb7a",
      "58805ad1375a4607befbcdeea5534b6f",
      "e07c72f5798049a7a58a7298898f7c83",
      "9da30ffd31304a4697696cc019f6726a",
      "79aefb6fd0ef4a5587ecf464d87f1ba4",
      "f7c067cfb1384efa960d42d3b2e909e6",
      "7e1ba2237a2846c5814fb0146e016acc"
     ]
    },
    "executionInfo": {
     "elapsed": 1489,
     "status": "ok",
     "timestamp": 1758813853677,
     "user": {
      "displayName": "Sanjana Suresh",
      "userId": "06214040959307151200"
     },
     "user_tz": -330
    },
    "id": "tGeb4Z2eniqX",
    "outputId": "f7fe6cd7-57f3-43b5-e1f3-452ef4baa512"
   },
   "outputs": [],
   "source": [
    "print(\"\\n### Popularity-Based Recommender GUI ###\")\n",
    "style = {'description_width': 'initial'}\n",
    "popularity_ui = widgets.interactive(\n",
    "    popularity_recommender,\n",
    "    genre=widgets.Dropdown(options=sorted(unique_genres), description='Select Genre:', style=style),\n",
    "    min_reviews_threshold=widgets.IntSlider(min=50, max=500, step=10, value=100, description='Min Reviews Threshold:', style=style),\n",
    "    N=widgets.IntSlider(min=1, max=10, step=1, value=5, description='Num Recommendations:', style=style)\n",
    ")\n",
    "display(popularity_ui)\n",
    "\n",
    "print(\"\\n### Content-Based Recommender GUI ###\")\n",
    "content_ui = widgets.interactive(\n",
    "    content_based_recommender,\n",
    "    movie_title=widgets.Dropdown(options=sorted(movies_df['title'].tolist()), description='Select Movie:', style=style),\n",
    "    N=widgets.IntSlider(min=1, max=10, step=1, value=5, description='Num Recommendations:', style=style)\n",
    ")\n",
    "display(content_ui)\n",
    "\n",
    "print(\"\\n### Collaborative Filtering Recommender GUI ###\")\n",
    "collab_ui = widgets.interactive(\n",
    "    collaborative_recommender,\n",
    "    user_id=widgets.Dropdown(options=sorted(ratings_df['userId'].unique().tolist()), description='Select UserID:', style=style),\n",
    "    k=widgets.IntSlider(min=10, max=200, step=10, value=100, description='Num Similar Users (k):', style=style),\n",
    "    N=widgets.IntSlider(min=1, max=10, step=1, value=5, description='Num Recommendations:', style=style)\n",
    ")\n",
    "display(collab_ui)"
   ]
  },
  {
   "cell_type": "code",
   "execution_count": null,
   "metadata": {
    "id": "0BE1TyD-faWp"
   },
   "outputs": [],
   "source": []
  },
  {
   "cell_type": "code",
   "execution_count": null,
   "metadata": {
    "colab": {
     "base_uri": "https://localhost:8080/"
    },
    "executionInfo": {
     "elapsed": 2333,
     "status": "ok",
     "timestamp": 1758814134297,
     "user": {
      "displayName": "Sanjana Suresh",
      "userId": "06214040959307151200"
     },
     "user_tz": -330
    },
    "id": "4PHsAKkcfaTt",
    "outputId": "a6e6c03e-f710-4661-a1e9-72a3193d1e8f"
   },
   "outputs": [],
   "source": [
    "from google.colab import drive\n",
    "drive.mount('/content/drive')"
   ]
  },
  {
   "cell_type": "code",
   "execution_count": null,
   "metadata": {
    "id": "4mjwfCz_fdWm"
   },
   "outputs": [],
   "source": [
    "!pip install nbstripout\n",
    "\n",
    "notebook_path = '/content/drive/MyDrive/Colab Notebooks/Movie_Recommendation_System.ipynb'\n",
    "!nbstripout \"$notebook_path\"\n",
    "\n",
    "!nbstripout '/content/drive/MyDrive/movies (1).csv'\n",
    "!nbstripout '/content/drive/MyDrive/ratings.csv'"
   ]
  }
 ],
 "metadata": {
  "colab": {
   "provenance": []
  },
  "kernelspec": {
   "display_name": "Python 3",
   "name": "python3"
  },
  "language_info": {
   "name": "python"
  }
 },
 "nbformat": 4,
 "nbformat_minor": 0
}
