{
 "cells": [
  {
   "cell_type": "code",
   "execution_count": null,
   "metadata": {
    "colab": {
     "base_uri": "https://localhost:8080/"
    },
    "executionInfo": {
     "elapsed": 29305,
     "status": "ok",
     "timestamp": 1758809796381,
     "user": {
      "displayName": "Sanjana Suresh",
      "userId": "06214040959307151200"
     },
     "user_tz": -330
    },
    "id": "-aTU8gm1OzKq",
    "outputId": "64b7a12f-a846-4a0b-df91-45883eb52bda"
   },
   "outputs": [],
   "source": [
    "from google.colab import drive\n",
    "drive.mount('/content/drive')"
   ]
  },
  {
   "cell_type": "code",
   "execution_count": null,
   "metadata": {
    "id": "gXlgUqjlPNQf"
   },
   "outputs": [],
   "source": [
    "!pip install nbstripout\n",
    "\n",
    "notebook_path = '/content/drive/MyDrive/Colab Notebooks/9. Movie_Recommendation_System.ipynb'\n",
    "!nbstripout \"$notebook_path\"\n",
    "\n",
    "# Clean the data files as well, assuming they are in the same folder.\n",
    "!nbstripout '/content/drive/MyDrive/movies (1).csv'\n",
    "!nbstripout '/content/drive/MyDrive/Colab_Projects/ratings.csv'"
   ]
  },
  {
   "cell_type": "code",
   "execution_count": null,
   "metadata": {
    "id": "21ceESJ8lj-5"
   },
   "outputs": [],
   "source": [
    "import pandas as pd\n",
    "import numpy as np\n",
    "from sklearn.feature_extraction.text import TfidfVectorizer\n",
    "from sklearn.metrics.pairwise import cosine_similarity\n",
    "import ipywidgets as widgets\n",
    "from IPython.display import display"
   ]
  },
  {
   "cell_type": "code",
   "execution_count": null,
   "metadata": {
    "colab": {
     "base_uri": "https://localhost:8080/"
    },
    "id": "Fs36MbXElj8j",
    "outputId": "4318e973-3570-4fc2-ba30-861d6c4dc392"
   },
   "outputs": [],
   "source": [
    "try:\n",
    "    movies_df = pd.read_csv('/content/movies (1).csv')\n",
    "    ratings_df = pd.read_csv('/content/ratings.csv')\n",
    "except FileNotFoundError:\n",
    "    print(\"Please make sure 'movies.csv' and 'ratings.csv' are in the correct directory.\")\n",
    "    movies_df = pd.DataFrame(columns=['movieId', 'title', 'genres'])\n",
    "    ratings_df = pd.DataFrame(columns=['userId', 'movieId', 'rating', 'timestamp'])\n",
    "\n",
    "print(\"Datasets loaded\")\n",
    "print(\"\\nMovies:\")\n",
    "print(movies_df.head())\n",
    "print(\"\\nRatings:\")\n",
    "print(ratings_df.head())"
   ]
  },
  {
   "cell_type": "code",
   "execution_count": null,
   "metadata": {
    "colab": {
     "base_uri": "https://localhost:8080/"
    },
    "id": "5aig75aRlj52",
    "outputId": "954ef6a2-0110-47f3-9d15-3affbcc5c683"
   },
   "outputs": [],
   "source": [
    "print(f\"Shape of movies data: {movies_df.shape}\")\n",
    "print(f\"Shape of ratings data: {ratings_df.shape}\")"
   ]
  },
  {
   "cell_type": "code",
   "execution_count": null,
   "metadata": {
    "colab": {
     "base_uri": "https://localhost:8080/"
    },
    "id": "SHzebK32lj2r",
    "outputId": "7b9cab7d-1548-40d1-848c-b8c63fffc5c7"
   },
   "outputs": [],
   "source": [
    "df = pd.merge(ratings_df, movies_df, on='movieId')\n",
    "print(\"\\nMerged DataFrame Head:\")\n",
    "print(df.head())"
   ]
  },
  {
   "cell_type": "code",
   "execution_count": null,
   "metadata": {
    "colab": {
     "base_uri": "https://localhost:8080/"
    },
    "id": "Y1X8w1RBl7mk",
    "outputId": "07de0b62-cb60-4004-a8f0-fe9b355c86e0"
   },
   "outputs": [],
   "source": [
    "n_users = df['userId'].nunique()\n",
    "n_movies = df['movieId'].nunique()\n",
    "print(f\"\\nNumber of unique users: {n_users}\")\n",
    "print(f\"Number of unique movies: {n_movies}\")"
   ]
  },
  {
   "cell_type": "code",
   "execution_count": null,
   "metadata": {
    "colab": {
     "base_uri": "https://localhost:8080/"
    },
    "id": "0XeZPC5kmBdq",
    "outputId": "854e34e3-1dc4-4a35-c1b4-2e86d42e3e5c"
   },
   "outputs": [],
   "source": [
    "print(\"\\nRating Distribution:\")\n",
    "print(df['rating'].describe())"
   ]
  },
  {
   "cell_type": "code",
   "execution_count": null,
   "metadata": {
    "colab": {
     "base_uri": "https://localhost:8080/"
    },
    "id": "w_vU0j_4mDja",
    "outputId": "6994329c-07ef-47e1-876c-d21b904cfe46"
   },
   "outputs": [],
   "source": [
    "genres_df = movies_df['genres'].str.get_dummies(sep='|')\n",
    "unique_genres = list(genres_df.columns)\n",
    "print(f\"\\nFound {len(unique_genres)} unique genres.\")"
   ]
  },
  {
   "cell_type": "code",
   "execution_count": null,
   "metadata": {
    "colab": {
     "base_uri": "https://localhost:8080/"
    },
    "id": "s7gIE1ZImHvK",
    "outputId": "de48294d-b5cd-4c7b-bc92-c40002b281fb"
   },
   "outputs": [],
   "source": [
    "print(\"\\nTotal movies per genre:\")\n",
    "print(genres_df.sum().sort_values(ascending=False))"
   ]
  },
  {
   "cell_type": "code",
   "execution_count": null,
   "metadata": {
    "id": "zotpHtXxmJ7y"
   },
   "outputs": [],
   "source": [
    "genre_ratings = df.drop(['movieId', 'userId', 'timestamp', 'title'], axis=1)\n",
    "genre_ratings = genre_ratings.join(genre_ratings['genres'].str.get_dummies(sep='|'))\n",
    "genre_ratings = genre_ratings.drop('genres', axis=1)"
   ]
  },
  {
   "cell_type": "code",
   "execution_count": null,
   "metadata": {
    "colab": {
     "base_uri": "https://localhost:8080/"
    },
    "id": "k2_M1iwQmMhG",
    "outputId": "7ae1ee0c-5569-4211-a680-db2b351723ac"
   },
   "outputs": [],
   "source": [
    "print(\"\\nAverage rating per genre:\")\n",
    "avg_genre_rating = {}\n",
    "for genre in unique_genres:\n",
    "    avg_genre_rating[genre] = genre_ratings[genre_ratings[genre] == 1]['rating'].mean()\n",
    "\n",
    "avg_rating_df = pd.Series(avg_genre_rating).sort_values(ascending=False)\n",
    "print(avg_rating_df)"
   ]
  },
  {
   "cell_type": "code",
   "execution_count": null,
   "metadata": {
    "id": "ybOwwUmHmRMp"
   },
   "outputs": [],
   "source": [
    "def popularity_recommender(genre, min_reviews_threshold, N):\n",
    "    genre_df = df[df['genres'].str.contains(genre, case=False, na=False)]\n",
    "    if genre_df.empty:\n",
    "        print(f\"No movies found for the genre: {genre}\")\n",
    "        return\n",
    "    movie_stats = genre_df.groupby('title').agg(\n",
    "        Num_Reviews=('rating', 'count'),\n",
    "        Average_Movie_Rating=('rating', 'mean')\n",
    "    ).reset_index()\n",
    "    qualified_movies = movie_stats[movie_stats['Num_Reviews'] >= min_reviews_threshold]\n",
    "    top_n_movies = qualified_movies.sort_values(by='Average_Movie_Rating', ascending=False).head(N)\n",
    "    top_n_movies = top_n_movies.reset_index(drop=True)\n",
    "    top_n_movies.index = top_n_movies.index + 1\n",
    "    top_n_movies.index.name = 'S.No'\n",
    "    display(top_n_movies[['title', 'Average_Movie_Rating', 'Num_Reviews']].rename(columns={'title': 'Movie Title'}))"
   ]
  },
  {
   "cell_type": "code",
   "execution_count": null,
   "metadata": {
    "colab": {
     "base_uri": "https://localhost:8080/",
     "height": 255
    },
    "id": "fd8YZdJDmlDJ",
    "outputId": "935b84b3-960f-495f-c859-40cc44767894"
   },
   "outputs": [],
   "source": [
    "print(f\"Top 5 Popular Movies in 'Comedy' Genre (with at least 100 reviews)\")\n",
    "popularity_recommender(genre='Comedy', min_reviews_threshold=100, N=5)"
   ]
  },
  {
   "cell_type": "code",
   "execution_count": null,
   "metadata": {
    "id": "ucAb1YnEmyNJ"
   },
   "outputs": [],
   "source": [
    "tfidf = TfidfVectorizer(stop_words='english')\n",
    "movies_df['genres'] = movies_df['genres'].fillna('')\n",
    "tfidf_matrix = tfidf.fit_transform(movies_df['genres'])\n",
    "cosine_sim = cosine_similarity(tfidf_matrix, tfidf_matrix)\n",
    "indices = pd.Series(movies_df.index, index=movies_df['title']).drop_duplicates()"
   ]
  },
  {
   "cell_type": "code",
   "execution_count": null,
   "metadata": {
    "id": "uPTMXszFm9dF"
   },
   "outputs": [],
   "source": [
    "def content_based_recommender(movie_title, N):\n",
    "    if movie_title not in indices:\n",
    "        print(f\"Movie '{movie_title}' not found in the dataset.\")\n",
    "        return\n",
    "    idx = indices[movie_title]\n",
    "    sim_scores = list(enumerate(cosine_sim[idx]))\n",
    "    sim_scores = sorted(sim_scores, key=lambda x: x[1], reverse=True)\n",
    "    sim_scores = sim_scores[1:N+1]\n",
    "    movie_indices = [i[0] for i in sim_scores]\n",
    "    recommended_movies = movies_df['title'].iloc[movie_indices].to_frame()\n",
    "    recommended_movies = recommended_movies.reset_index(drop=True)\n",
    "    recommended_movies.index = recommended_movies.index + 1\n",
    "    recommended_movies.index.name = 'Sl.No'\n",
    "    display(recommended_movies.rename(columns={'title': 'Movie Title'}))"
   ]
  },
  {
   "cell_type": "code",
   "execution_count": null,
   "metadata": {
    "colab": {
     "base_uri": "https://localhost:8080/",
     "height": 272
    },
    "id": "DhemvBitnE1x",
    "outputId": "f63b3b13-22f6-49b2-915d-dd0b4e604393"
   },
   "outputs": [],
   "source": [
    "print(f\"\\nTop 5 Movies Similar to 'Toy Story (1995)' Based on Genre\")\n",
    "content_based_recommender(movie_title='Toy Story (1995)', N=5)"
   ]
  },
  {
   "cell_type": "code",
   "execution_count": null,
   "metadata": {
    "id": "HfvHbCIEnHwr"
   },
   "outputs": [],
   "source": [
    "user_movie_matrix = df.pivot_table(index='userId', columns='title', values='rating').fillna(0)\n",
    "user_similarity = cosine_similarity(user_movie_matrix)\n",
    "user_similarity_df = pd.DataFrame(user_similarity, index=user_movie_matrix.index, columns=user_movie_matrix.index)"
   ]
  },
  {
   "cell_type": "code",
   "execution_count": null,
   "metadata": {
    "id": "OaM1avsVnRD9"
   },
   "outputs": [],
   "source": [
    "def collaborative_recommender(user_id, k, N):\n",
    "    if user_id not in user_movie_matrix.index:\n",
    "        print(f\"User ID {user_id} not found.\")\n",
    "        return\n",
    "    similar_users = user_similarity_df[user_id].sort_values(ascending=False).iloc[1:k+1]\n",
    "    user_watched_movies = user_movie_matrix.loc[user_id][user_movie_matrix.loc[user_id] > 0].index\n",
    "    recommendations = {}\n",
    "    for similar_user_id, similarity_score in similar_users.items():\n",
    "        similar_user_ratings = user_movie_matrix.loc[similar_user_id]\n",
    "        unseen_movies = similar_user_ratings[similar_user_ratings > 0].index.difference(user_watched_movies)\n",
    "        for movie in unseen_movies:\n",
    "            if movie not in recommendations:\n",
    "                recommendations[movie] = {'total_score': 0, 'total_similarity': 0}\n",
    "            recommendations[movie]['total_score'] += similarity_score * similar_user_ratings[movie]\n",
    "            recommendations[movie]['total_similarity'] += similarity_score\n",
    "    if not recommendations:\n",
    "        print(\"Could not find any new movies to recommend based on the given users.\")\n",
    "        return\n",
    "    predicted_ratings = {movie: data['total_score'] / data['total_similarity'] for movie, data in recommendations.items()}\n",
    "    top_n_movies = sorted(predicted_ratings.items(), key=lambda item: item[1], reverse=True)[:N]\n",
    "    rec_df = pd.DataFrame(top_n_movies, columns=['Movie Title', 'Predicted Rating'])\n",
    "    rec_df = rec_df.reset_index()\n",
    "    rec_df['index'] = rec_df['index'] + 1\n",
    "    rec_df = rec_df.rename(columns={'index': 'S.No'})\n",
    "    display(rec_df[['S.No', 'Movie Title']])"
   ]
  },
  {
   "cell_type": "code",
   "execution_count": null,
   "metadata": {
    "colab": {
     "base_uri": "https://localhost:8080/",
     "height": 241
    },
    "id": "k2EpVRAOncZ9",
    "outputId": "ade15ef4-f2f5-417d-9107-b457dc78d900"
   },
   "outputs": [],
   "source": [
    "print(f\"\\nTop 5 Movie Recommendations for User ID 1 (based on 100 similar users)\")\n",
    "collaborative_recommender(user_id=1, k=100, N=5)"
   ]
  },
  {
   "cell_type": "code",
   "execution_count": null,
   "metadata": {
    "colab": {
     "base_uri": "https://localhost:8080/",
     "height": 976,
     "referenced_widgets": [
      "2e8b5a48a9074ca1a4c0a0ab07182f3b",
      "1f9a4ddf183443f58f588af25f07797b",
      "7037a6fdb88243ceaf139941d66001e9",
      "37abc48ee6c64afe8527b225da29c587",
      "d67c3998762545cf891f3e2da5ad1c47",
      "f07e968992ad47328ce9d4ac78892113",
      "465f78f16014483ba45b3ed7005b6e30",
      "893d8dd9732b4c5e80d2dff2af2c3da6",
      "e312faae5e36431da135838092630371",
      "25c9f38cad864155a2850293d2cc4df7",
      "5e1c9957e1b147eb815817d4b014bdfe",
      "c68a7b619ad04e32b303cb3dd338290c",
      "395c380e83254953bbe147ba2bdb7e73",
      "6927171573df43c88a6756cf9e1778b6",
      "bcae4f62b94e4bb5a3e66da807306b48",
      "2925bc0da1314393b19db992fda00fd0",
      "ab3ed6d2660045c4afc73d79bb7b4196",
      "32e38cfb152e4a10b9ec7fba98780b5d",
      "481745d9f6a34aa885eb602f36038e09",
      "170dfd479fbd4d94b1d6279671041ec7",
      "f05de3d1ebfe41f7a48f374b2e144c93",
      "8a75f3956bea49fe9801aaab58de4c15",
      "1f64d0360c014e7183a327e48a4d24ad",
      "ba845e01539e434c83c4a195e92f4da3",
      "43b0bbce75db437ea2e6b7c26d09afa8",
      "2df11a5cb969410b816823192fadf734",
      "441c052dc90b4736b02669796c5518fd",
      "1a201935840c41689dd9121759a6d3e0",
      "0d311c29170b48d29ee5649f6e301b9a",
      "a56fe194a2a94e8fad61811722f74be9",
      "0d88a66b158b469c803af805499bcc7b",
      "66dde49e17824a6d94a38549791045df",
      "ad3ce6d3476642909d133976ce0e6106",
      "a0ff6b59b47743ecb9b9c15551ee6463",
      "f9044b29da804a428921fe7d824eeabc",
      "73097c06eb4642eeaebeac49c2c28afb"
     ]
    },
    "id": "tGeb4Z2eniqX",
    "outputId": "f829c1d9-944a-4d1a-c45d-c484aff40551"
   },
   "outputs": [],
   "source": [
    "print(\"\\n### Popularity-Based Recommender GUI ###\")\n",
    "style = {'description_width': 'initial'}\n",
    "popularity_ui = widgets.interactive(\n",
    "    popularity_recommender,\n",
    "    genre=widgets.Dropdown(options=sorted(unique_genres), description='Select Genre:', style=style),\n",
    "    min_reviews_threshold=widgets.IntSlider(min=50, max=500, step=10, value=100, description='Min Reviews Threshold:', style=style),\n",
    "    N=widgets.IntSlider(min=1, max=10, step=1, value=5, description='Num Recommendations:', style=style)\n",
    ")\n",
    "display(popularity_ui)\n",
    "\n",
    "print(\"\\n### Content-Based Recommender GUI ###\")\n",
    "content_ui = widgets.interactive(\n",
    "    content_based_recommender,\n",
    "    movie_title=widgets.Dropdown(options=sorted(movies_df['title'].tolist()), description='Select Movie:', style=style),\n",
    "    N=widgets.IntSlider(min=1, max=10, step=1, value=5, description='Num Recommendations:', style=style)\n",
    ")\n",
    "display(content_ui)\n",
    "\n",
    "print(\"\\n### Collaborative Filtering Recommender GUI ###\")\n",
    "collab_ui = widgets.interactive(\n",
    "    collaborative_recommender,\n",
    "    user_id=widgets.Dropdown(options=sorted(ratings_df['userId'].unique().tolist()), description='Select UserID:', style=style),\n",
    "    k=widgets.IntSlider(min=10, max=200, step=10, value=100, description='Num Similar Users (k):', style=style),\n",
    "    N=widgets.IntSlider(min=1, max=10, step=1, value=5, description='Num Recommendations:', style=style)\n",
    ")\n",
    "display(collab_ui)"
   ]
  }
 ],
 "metadata": {
  "colab": {
   "provenance": []
  },
  "kernelspec": {
   "display_name": "Python 3",
   "name": "python3"
  },
  "language_info": {
   "name": "python"
  }
 },
 "nbformat": 4,
 "nbformat_minor": 0
}
